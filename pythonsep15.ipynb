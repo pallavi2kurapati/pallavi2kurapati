{
  "nbformat": 4,
  "nbformat_minor": 0,
  "metadata": {
    "colab": {
      "provenance": [],
      "authorship_tag": "ABX9TyMl2fAnridqXPbzHSDC3mwk",
      "include_colab_link": true
    },
    "kernelspec": {
      "name": "python3",
      "display_name": "Python 3"
    },
    "language_info": {
      "name": "python"
    }
  },
  "cells": [
    {
      "cell_type": "markdown",
      "metadata": {
        "id": "view-in-github",
        "colab_type": "text"
      },
      "source": [
        "<a href=\"https://colab.research.google.com/github/pallavi2kurapati/pallavi2kurapati/blob/main/pythonsep15.ipynb\" target=\"_parent\"><img src=\"https://colab.research.google.com/assets/colab-badge.svg\" alt=\"Open In Colab\"/></a>"
      ]
    },
    {
      "cell_type": "code",
      "execution_count": 1,
      "metadata": {
        "colab": {
          "base_uri": "https://localhost:8080/"
        },
        "id": "SnX6n4T0Vd8d",
        "outputId": "a1422d6f-2945-40da-e788-957e35c6ca81"
      },
      "outputs": [
        {
          "output_type": "stream",
          "name": "stdout",
          "text": [
            "hello world\n"
          ]
        }
      ],
      "source": [
        "print(\"hello world\")"
      ]
    },
    {
      "cell_type": "code",
      "source": [
        "num1=int(input(\"the first number is\"))\n",
        "num2=int(input(\"the second number is\"))\n",
        "add=num1+num2\n",
        "sub=num1-num2\n",
        "mul=num1*num2\n",
        "print(\"num1+num2=\",add)\n",
        "print(\"num1-num2=\",sub)\n",
        "print(\"num1*num2=\",mul)\n"
      ],
      "metadata": {
        "colab": {
          "base_uri": "https://localhost:8080/"
        },
        "id": "opmuy-8rVsVz",
        "outputId": "f9fd32e4-07d3-4f26-b68f-1f2ec202ed64"
      },
      "execution_count": 3,
      "outputs": [
        {
          "output_type": "stream",
          "name": "stdout",
          "text": [
            "the first number is3\n",
            "the second number is2\n",
            "num1+num2= 5\n",
            "num1-num2= 1\n",
            "num1*num2= 6\n"
          ]
        }
      ]
    },
    {
      "cell_type": "code",
      "source": [
        "a=3\n",
        "print(type(a))"
      ],
      "metadata": {
        "colab": {
          "base_uri": "https://localhost:8080/"
        },
        "id": "gXMBd4erXe3J",
        "outputId": "1d95fbbf-aa47-4026-a261-93de02e7c33d"
      },
      "execution_count": 5,
      "outputs": [
        {
          "output_type": "stream",
          "name": "stdout",
          "text": [
            "<class 'int'>\n"
          ]
        }
      ]
    },
    {
      "cell_type": "code",
      "source": [
        "a=\"3\"\n",
        "print(type(a))"
      ],
      "metadata": {
        "colab": {
          "base_uri": "https://localhost:8080/"
        },
        "id": "jqxHYcJ5YH1x",
        "outputId": "a2543f49-611c-4f72-d518-7db6def3af56"
      },
      "execution_count": 6,
      "outputs": [
        {
          "output_type": "stream",
          "name": "stdout",
          "text": [
            "<class 'str'>\n"
          ]
        }
      ]
    },
    {
      "cell_type": "code",
      "source": [
        "print(\"c is a complex number=\",isinstance(1+3j,complex))\n"
      ],
      "metadata": {
        "colab": {
          "base_uri": "https://localhost:8080/"
        },
        "id": "ZM_LH_9cYfa_",
        "outputId": "5840d47c-f1d2-443d-b534-c259d2fad4aa"
      },
      "execution_count": 7,
      "outputs": [
        {
          "output_type": "stream",
          "name": "stdout",
          "text": [
            "c is a complex number= True\n"
          ]
        }
      ]
    },
    {
      "cell_type": "code",
      "source": [
        "str1=\"pallavi\"\n",
        "str2=\"kurapati\"\n",
        "print(str1*3)"
      ],
      "metadata": {
        "colab": {
          "base_uri": "https://localhost:8080/"
        },
        "id": "inBBNLDnY9Yt",
        "outputId": "e868e1d2-26a6-4989-eb36-4ac463cd84ce"
      },
      "execution_count": 11,
      "outputs": [
        {
          "output_type": "stream",
          "name": "stdout",
          "text": [
            "pallavipallavipallavi\n"
          ]
        }
      ]
    },
    {
      "cell_type": "code",
      "source": [
        "string3=\"kurapati\"\n",
        "print(string3[2:(3+1)])"
      ],
      "metadata": {
        "colab": {
          "base_uri": "https://localhost:8080/"
        },
        "id": "kHB7cWhUb5BV",
        "outputId": "4f761e93-af01-4762-be81-4997fbb9e241"
      },
      "execution_count": 15,
      "outputs": [
        {
          "output_type": "stream",
          "name": "stdout",
          "text": [
            "ra\n"
          ]
        }
      ]
    },
    {
      "cell_type": "code",
      "source": [
        "s=\"kurapati\"\n",
        "h=\"himanish\"\n",
        "print('u' in s)\n",
        "print('b' in s)\n",
        "print(s.isalpha())\n",
        "print(s.isdigit())\n",
        "print(s.lower())\n",
        "print(s.upper())\n",
        "print(s.replace('u','a'))\n",
        "print(s.split(\"a\"))"
      ],
      "metadata": {
        "colab": {
          "base_uri": "https://localhost:8080/"
        },
        "id": "aJVG4tSxdfws",
        "outputId": "c3169617-4577-4ea8-bf71-f1b4e7674cfe"
      },
      "execution_count": 24,
      "outputs": [
        {
          "output_type": "stream",
          "name": "stdout",
          "text": [
            "True\n",
            "False\n",
            "True\n",
            "False\n",
            "kurapati\n",
            "KURAPATI\n",
            "karapati\n",
            "['kur', 'p', 'ti']\n"
          ]
        }
      ]
    },
    {
      "cell_type": "code",
      "source": [],
      "metadata": {
        "id": "mDx7vdGqaz8b"
      },
      "execution_count": null,
      "outputs": []
    },
    {
      "cell_type": "code",
      "source": [
        "a=5\n",
        "b=6\n",
        "print(a+b)\n",
        "print(a-b)\n",
        "print(a*b)\n",
        "print(a%b)\n",
        "print(a**b)\n",
        "print(a//b)\n",
        "print(a==b)\n",
        "print(a<b)\n",
        "print(a>b)"
      ],
      "metadata": {
        "colab": {
          "base_uri": "https://localhost:8080/"
        },
        "id": "wRp84qZ4g9_x",
        "outputId": "18dea409-79b0-4a33-9d73-4bd4cfced13d"
      },
      "execution_count": 35,
      "outputs": [
        {
          "output_type": "stream",
          "name": "stdout",
          "text": [
            "11\n",
            "-1\n",
            "30\n",
            "5\n",
            "15625\n",
            "0\n",
            "False\n",
            "True\n",
            "False\n"
          ]
        }
      ]
    },
    {
      "cell_type": "code",
      "source": [
        "a=15\n",
        "b=20\n",
        "c=a+b\n",
        "print(a+b)\n",
        "print(\"c=\",c+3)\n",
        "print(\"c=\",c-3)\n",
        "print(\"c=\",c*3)"
      ],
      "metadata": {
        "colab": {
          "base_uri": "https://localhost:8080/"
        },
        "id": "t7QY7iPki53C",
        "outputId": "b9fe2750-741b-467b-827c-449c0a53853a"
      },
      "execution_count": 39,
      "outputs": [
        {
          "output_type": "stream",
          "name": "stdout",
          "text": [
            "35\n",
            "c= 38\n",
            "c= 32\n",
            "c= 105\n"
          ]
        }
      ]
    }
  ]
}