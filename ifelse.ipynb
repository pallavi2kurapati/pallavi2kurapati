{
  "nbformat": 4,
  "nbformat_minor": 0,
  "metadata": {
    "colab": {
      "provenance": [],
      "authorship_tag": "ABX9TyPOJ6XqRDvmFRi29mPfA5qj",
      "include_colab_link": true
    },
    "kernelspec": {
      "name": "python3",
      "display_name": "Python 3"
    },
    "language_info": {
      "name": "python"
    }
  },
  "cells": [
    {
      "cell_type": "markdown",
      "metadata": {
        "id": "view-in-github",
        "colab_type": "text"
      },
      "source": [
        "<a href=\"https://colab.research.google.com/github/pallavi2kurapati/pallavi2kurapati/blob/main/ifelse.ipynb\" target=\"_parent\"><img src=\"https://colab.research.google.com/assets/colab-badge.svg\" alt=\"Open In Colab\"/></a>"
      ]
    },
    {
      "cell_type": "code",
      "execution_count": 7,
      "metadata": {
        "colab": {
          "base_uri": "https://localhost:8080/"
        },
        "id": "w7cep3i5Z3Xw",
        "outputId": "61012903-ffb6-4a9a-bdcf-ba3efe183647"
      },
      "outputs": [
        {
          "output_type": "stream",
          "name": "stdout",
          "text": [
            "total =  185\n",
            "percentage  =  46.25\n",
            "grade = b\n"
          ]
        }
      ],
      "source": [
        "\n",
        "sub1=35\n",
        "sub2=45\n",
        "sub3=50\n",
        "sub4=55\n",
        "total=sub1+sub2+sub3+sub4\n",
        "per = total/4\n",
        "print(\"total = \",total)\n",
        "print(\"percentage  = \",per)\n",
        "\n",
        "if per < 35:\n",
        "  print(\"grade = c\")\n",
        "elif per < 60 :\n",
        "  print(\"grade = b\")\n",
        "else:\n",
        "  print(\"grade = a\")"
      ]
    }
  ]
}